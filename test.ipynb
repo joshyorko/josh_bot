{
 "cells": [
  {
   "cell_type": "code",
   "execution_count": null,
   "metadata": {},
   "outputs": [],
   "source": [
    "from langchain.prompts.chat import (\n",
    "    ChatPromptTemplate,\n",
    "    HumanMessagePromptTemplate,\n",
    "    SystemMessagePromptTemplate,\n",
    ")\n",
    "from langchain.schema import HumanMessage, SystemMessage\n",
    "from langchain_community.chat_models import ChatOpenAI\n",
    "from langchain.callbacks.manager import CallbackManager\n",
    "from langchain.callbacks.streaming_stdout import StreamingStdOutCallbackHandler\n",
    "\n",
    "\n",
    "chat = ChatOpenAI(model='LLaMA_CPP',\n",
    "                    temperature=0,\n",
    "                    openai_api_key=\"sk-no-key-required\", \n",
    "                    base_url='http://localhost:8080/v1',\n",
    "                    callback_manager=CallbackManager([StreamingStdOutCallbackHandler()]))  \n",
    "\n",
    "\n",
    "\n",
    "\n"
   ]
  },
  {
   "cell_type": "code",
   "execution_count": null,
   "metadata": {},
   "outputs": [],
   "source": [
    "from langchain_community.tools import DuckDuckGoSearchRun\n",
    "from langchain_core.output_parsers import StrOutputParser\n",
    "from langchain_core.prompts import ChatPromptTemplate\n",
    "from langchain_openai import ChatOpenAI\n",
    "\n",
    "\n",
    "\n",
    "\n",
    "search = DuckDuckGoSearchRun()\n",
    "\n",
    "\n",
    "template = \"\"\"turn the following user input into a search query for a search engine:\n",
    "\n",
    "{input}\"\"\"\n",
    "prompt = ChatPromptTemplate.from_template(template)\n",
    "\n",
    "model = ChatOpenAI(base_url='http://localhost:8080/v1',\n",
    "                   model='LLaMA_CPP')\n",
    "\n",
    "chain = prompt | model | StrOutputParser() | search\n",
    "\n",
    "\n",
    "chain.invoke({\"input\": \"Current news openai\"})"
   ]
  },
  {
   "cell_type": "code",
   "execution_count": null,
   "metadata": {},
   "outputs": [],
   "source": [
    "from langchain_core.output_parsers import StrOutputParser\n",
    "from langchain_core.prompts import ChatPromptTemplate\n",
    "from langchain_openai import ChatOpenAI\n",
    "\n",
    "prompt = ChatPromptTemplate.from_template(\"tell me a short joke about {topic}\")\n",
    "model = ChatOpenAI(model=\"LLaMA_CPP\",\n",
    "                    openai_api_key=\"sk-no-key-required\", \n",
    "                    base_url='http://localhost:8080/v1')\n",
    "output_parser = StrOutputParser()\n",
    "\n",
    "chain = prompt | model | output_parser\n",
    "\n",
    "print(chain)\n",
    "\n",
    "\n",
    "\n",
    "chain.invoke({\"topic\": \"ice cream\"})"
   ]
  },
  {
   "cell_type": "code",
   "execution_count": null,
   "metadata": {},
   "outputs": [],
   "source": [
    "%pip install rich --quiet"
   ]
  },
  {
   "cell_type": "code",
   "execution_count": 1,
   "metadata": {},
   "outputs": [
    {
     "data": {
      "text/html": [
       "<pre style=\"white-space:pre;overflow-x:auto;line-height:normal;font-family:Menlo,'DejaVu Sans Mono',consolas,'Courier New',monospace\">August <span style=\"color: #008080; text-decoration-color: #008080; font-weight: bold\">4</span>, <span style=\"color: #008080; text-decoration-color: #008080; font-weight: bold\">1961</span>, Honolulu, Hawaii, U.S. <span style=\"font-weight: bold\">(</span>age <span style=\"color: #008080; text-decoration-color: #008080; font-weight: bold\">62</span><span style=\"font-weight: bold\">)</span> Title <span style=\"color: #800080; text-decoration-color: #800080\">/</span> Office: presidency of the United States of America \n",
       "<span style=\"font-weight: bold\">(</span><span style=\"color: #008080; text-decoration-color: #008080; font-weight: bold\">2009</span>-<span style=\"color: #008080; text-decoration-color: #008080; font-weight: bold\">2017</span><span style=\"font-weight: bold\">)</span>, United States United States Senate <span style=\"font-weight: bold\">(</span><span style=\"color: #008080; text-decoration-color: #008080; font-weight: bold\">2005</span>-<span style=\"color: #008080; text-decoration-color: #008080; font-weight: bold\">2008</span><span style=\"font-weight: bold\">)</span>, United States <span style=\"font-weight: bold\">(</span>Show more<span style=\"font-weight: bold\">)</span> Political Affiliation: \n",
       "Democratic Party Awards And Honors: Nobel Prize <span style=\"font-weight: bold\">(</span><span style=\"color: #008080; text-decoration-color: #008080; font-weight: bold\">2009</span><span style=\"font-weight: bold\">)</span> Grammy Award <span style=\"font-weight: bold\">(</span><span style=\"color: #008080; text-decoration-color: #008080; font-weight: bold\">2007</span><span style=\"font-weight: bold\">)</span> Grammy Award <span style=\"font-weight: bold\">(</span><span style=\"color: #008080; text-decoration-color: #008080; font-weight: bold\">2005</span><span style=\"font-weight: bold\">)</span> Life After the \n",
       "Presidency How Tall is Obama? Books and Grammy Hobbies Movies About Obama Quotes <span style=\"color: #008080; text-decoration-color: #008080; font-weight: bold\">1961</span>-present Who Is Barack Obama? \n",
       "Barack Obama was the <span style=\"color: #008080; text-decoration-color: #008080; font-weight: bold\">44</span> th president of the United States<span style=\"color: #808000; text-decoration-color: #808000\">...</span> As the head of the government of the United States, \n",
       "the president is arguably the most powerful government official in the world. The president is elected to a \n",
       "four-year term via an electoral college system. Since the Twenty-second Amendment was adopted in <span style=\"color: #008080; text-decoration-color: #008080; font-weight: bold\">1951</span>, the American\n",
       "presidency has been The film, which is based on the <span style=\"color: #008080; text-decoration-color: #008080; font-weight: bold\">2020</span> novel by Rumaan Alam, follows Amanda and Clay Sanford \n",
       "<span style=\"font-weight: bold\">(</span>Julia Roberts and Ethan Hawke<span style=\"font-weight: bold\">)</span>, and their two children, who decide to head down to Long Island for a<span style=\"color: #808000; text-decoration-color: #808000\">...</span> Barack \n",
       "Obama, then junior United States senator from Illinois, announced his candidacy for President of the United States \n",
       "on February <span style=\"color: #008080; text-decoration-color: #008080; font-weight: bold\">10</span>, <span style=\"color: #008080; text-decoration-color: #008080; font-weight: bold\">2007</span>, in Springfield, Illinois. After winning a majority of delegates in the Democratic primaries \n",
       "of <span style=\"color: #008080; text-decoration-color: #008080; font-weight: bold\">2008</span>, on August <span style=\"color: #008080; text-decoration-color: #008080; font-weight: bold\">23</span>, leading up to the convention, the campaign announced that Senator Joe Biden of Delaware \n",
       "would be the vice presidential nominee.\n",
       "</pre>\n"
      ],
      "text/plain": [
       "August \u001b[1;36m4\u001b[0m, \u001b[1;36m1961\u001b[0m, Honolulu, Hawaii, U.S. \u001b[1m(\u001b[0mage \u001b[1;36m62\u001b[0m\u001b[1m)\u001b[0m Title \u001b[35m/\u001b[0m Office: presidency of the United States of America \n",
       "\u001b[1m(\u001b[0m\u001b[1;36m2009\u001b[0m-\u001b[1;36m2017\u001b[0m\u001b[1m)\u001b[0m, United States United States Senate \u001b[1m(\u001b[0m\u001b[1;36m2005\u001b[0m-\u001b[1;36m2008\u001b[0m\u001b[1m)\u001b[0m, United States \u001b[1m(\u001b[0mShow more\u001b[1m)\u001b[0m Political Affiliation: \n",
       "Democratic Party Awards And Honors: Nobel Prize \u001b[1m(\u001b[0m\u001b[1;36m2009\u001b[0m\u001b[1m)\u001b[0m Grammy Award \u001b[1m(\u001b[0m\u001b[1;36m2007\u001b[0m\u001b[1m)\u001b[0m Grammy Award \u001b[1m(\u001b[0m\u001b[1;36m2005\u001b[0m\u001b[1m)\u001b[0m Life After the \n",
       "Presidency How Tall is Obama? Books and Grammy Hobbies Movies About Obama Quotes \u001b[1;36m1961\u001b[0m-present Who Is Barack Obama? \n",
       "Barack Obama was the \u001b[1;36m44\u001b[0m th president of the United States\u001b[33m...\u001b[0m As the head of the government of the United States, \n",
       "the president is arguably the most powerful government official in the world. The president is elected to a \n",
       "four-year term via an electoral college system. Since the Twenty-second Amendment was adopted in \u001b[1;36m1951\u001b[0m, the American\n",
       "presidency has been The film, which is based on the \u001b[1;36m2020\u001b[0m novel by Rumaan Alam, follows Amanda and Clay Sanford \n",
       "\u001b[1m(\u001b[0mJulia Roberts and Ethan Hawke\u001b[1m)\u001b[0m, and their two children, who decide to head down to Long Island for a\u001b[33m...\u001b[0m Barack \n",
       "Obama, then junior United States senator from Illinois, announced his candidacy for President of the United States \n",
       "on February \u001b[1;36m10\u001b[0m, \u001b[1;36m2007\u001b[0m, in Springfield, Illinois. After winning a majority of delegates in the Democratic primaries \n",
       "of \u001b[1;36m2008\u001b[0m, on August \u001b[1;36m23\u001b[0m, leading up to the convention, the campaign announced that Senator Joe Biden of Delaware \n",
       "would be the vice presidential nominee.\n"
      ]
     },
     "metadata": {},
     "output_type": "display_data"
    }
   ],
   "source": [
    "from langchain_community.tools import DuckDuckGoSearchRun\n",
    "from langchain_community.tools import DuckDuckGoSearchResults\n",
    "from langchain_core.output_parsers import StrOutputParser\n",
    "from langchain_openai import ChatOpenAI\n",
    "\n",
    "\n",
    "\n",
    "output_parser = StrOutputParser()\n",
    "\n",
    "\n",
    "# \n",
    "def search(query):\n",
    "    search = DuckDuckGoSearchRun()\n",
    "    return search.invoke({\"query\": query})\n",
    "    \n",
    "\n",
    "\n",
    "\n",
    "def search_results():\n",
    "    search = DuckDuckGoSearchResults()\n",
    "    pass\n",
    "\n",
    "\n",
    "\n",
    "\n"
   ]
  },
  {
   "cell_type": "code",
   "execution_count": 17,
   "metadata": {},
   "outputs": [],
   "source": [
    "from langchain_community.tools import DuckDuckGoSearchResults\n",
    "\n",
    "search = DuckDuckGoSearchResults()\n",
    "item = search.run(\"Obama's first name?\")"
   ]
  },
  {
   "cell_type": "code",
   "execution_count": 18,
   "metadata": {},
   "outputs": [
    {
     "data": {
      "text/plain": [
       "str"
      ]
     },
     "execution_count": 18,
     "metadata": {},
     "output_type": "execute_result"
    }
   ],
   "source": []
  }
 ],
 "metadata": {
  "kernelspec": {
   "display_name": "open_ai",
   "language": "python",
   "name": "python3"
  },
  "language_info": {
   "codemirror_mode": {
    "name": "ipython",
    "version": 3
   },
   "file_extension": ".py",
   "mimetype": "text/x-python",
   "name": "python",
   "nbconvert_exporter": "python",
   "pygments_lexer": "ipython3",
   "version": "3.10.12"
  }
 },
 "nbformat": 4,
 "nbformat_minor": 2
}
